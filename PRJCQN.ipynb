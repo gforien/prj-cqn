{
  "nbformat": 4,
  "nbformat_minor": 0,
  "metadata": {
    "colab": {
      "name": "PRJCQN",
      "provenance": [],
      "collapsed_sections": [],
      "mount_file_id": "19IQjYl5RlQgbrygfqiZ9IIbGu_l0i5wo",
      "authorship_tag": "ABX9TyNtvu3cdtYm32nW4Swa03id",
      "include_colab_link": true
    },
    "kernelspec": {
      "name": "python3",
      "display_name": "Python 3"
    }
  },
  "cells": [
    {
      "cell_type": "markdown",
      "metadata": {
        "id": "view-in-github",
        "colab_type": "text"
      },
      "source": [
        "<a href=\"https://colab.research.google.com/github/gforien/prj-cqn/blob/master/PRJCQN.ipynb\" target=\"_parent\"><img src=\"https://colab.research.google.com/assets/colab-badge.svg\" alt=\"Open In Colab\"/></a>"
      ]
    },
    {
      "cell_type": "markdown",
      "metadata": {
        "id": "eEbvi63iLLE4"
      },
      "source": [
        "# Configuration"
      ]
    },
    {
      "cell_type": "code",
      "metadata": {
        "id": "O2QZAa-Y_NK4"
      },
      "source": [
        "%%capture\n",
        "!pip install qiskit ipywidgets\n",
        "!pip install qiskit[visualization]\n",
        "!pip install python-dotenv"
      ],
      "execution_count": 1,
      "outputs": []
    },
    {
      "cell_type": "code",
      "metadata": {
        "id": "XljBPk95D_nQ"
      },
      "source": [
        "# Getting your API key\n",
        "!cp \"/content/drive/My Drive/qiskit-config.txt\" /home/.env\n",
        "from dotenv import load_dotenv, find_dotenv\n",
        "print(f\"environment file found at: {find_dotenv()}\")\n",
        "load_dotenv()\n",
        "import os\n",
        "print(os.getenv(\"IBMQ_KEY\"))"
      ],
      "execution_count": 2,
      "outputs": []
    },
    {
      "cell_type": "code",
      "metadata": {
        "id": "PCs0RXWM9_q-",
        "outputId": "c9db4363-7787-4872-ad38-9e5c0ee20ee0",
        "colab": {
          "base_uri": "https://localhost:8080/"
        }
      },
      "source": [
        "# Importing standard Qiskit libraries and configuring account\n",
        "from qiskit import *\n",
        "from qiskit.tools.visualization import plot_histogram\n",
        "from qiskit.tools.monitor import job_monitor\n",
        "from qiskit.providers.ibmq import least_busy\n",
        "%matplotlib inline\n",
        "# Loading your IBM Q account(s)\n",
        "IBMQ.save_account(os.getenv(\"IBMQ_KEY\"), overwrite=True)\n",
        "IBMQ.load_account()\n",
        "provider = IBMQ.get_provider('ibm-q')"
      ],
      "execution_count": 7,
      "outputs": [
        {
          "output_type": "stream",
          "text": [
            "/usr/local/lib/python3.6/dist-packages/qiskit/providers/ibmq/ibmqfactory.py:192: UserWarning: Timestamps in IBMQ backend properties, jobs, and job results are all now in local time instead of UTC.\n",
            "  warnings.warn('Timestamps in IBMQ backend properties, jobs, and job results '\n",
            "ibmqfactory.load_account:WARNING:2020-11-16 08:17:37,479: Credentials are already in use. The existing account in the session will be replaced.\n"
          ],
          "name": "stderr"
        }
      ]
    },
    {
      "cell_type": "markdown",
      "metadata": {
        "id": "NTqoiBQyL0at"
      },
      "source": [
        "# Circuit"
      ]
    },
    {
      "cell_type": "code",
      "metadata": {
        "id": "VMMUArt0-oCk"
      },
      "source": [
        "# Initialization:\n",
        "circuit = QuantumCircuit(2, 2)\n",
        "# c = |00>"
      ],
      "execution_count": 8,
      "outputs": []
    },
    {
      "cell_type": "code",
      "metadata": {
        "id": "bEwPM2GO_eQ3",
        "outputId": "9136e268-f209-4e6e-8606-a1a53f07a1e8",
        "colab": {
          "base_uri": "https://localhost:8080/",
          "height": 185
        }
      },
      "source": [
        "# Step 1 - Superposition\n",
        "circuit.h(0)\n",
        "circuit.h(1)\n",
        "circuit.draw('mpl')\n",
        "# c = |00> + |01> + |10> + |11>"
      ],
      "execution_count": 9,
      "outputs": [
        {
          "output_type": "execute_result",
          "data": {
            "image/png": "[encoded data removed]",
            "text/plain": [
              "<Figure size 146.652x204.68 with 1 Axes>"
            ]
          },
          "metadata": {
            "tags": []
          },
          "execution_count": 9
        }
      ]
    },
    {
      "cell_type": "code",
      "metadata": {
        "id": "PcM4vT3S_g58",
        "outputId": "fc0b529b-a4b0-48e7-81c8-a04cf308eee4",
        "colab": {
          "base_uri": "https://localhost:8080/",
          "height": 185
        }
      },
      "source": [
        "# Step 2 - Oracle = on tag le qubit 1\n",
        "circuit.cz(0, 1)\n",
        "circuit.draw('mpl')"
      ],
      "execution_count": 10,
      "outputs": [
        {
          "output_type": "execute_result",
          "data": {
            "image/png": "[encoded data removed]",
            "text/plain": [
              "<Figure size 206.852x204.68 with 1 Axes>"
            ]
          },
          "metadata": {
            "tags": []
          },
          "execution_count": 10
        }
      ]
    },
    {
      "cell_type": "code",
      "metadata": {
        "id": "eAKXLamT_iyQ",
        "outputId": "9819be0f-0a1e-4e97-c364-75f798eb6a53",
        "colab": {
          "base_uri": "https://localhost:8080/",
          "height": 185
        }
      },
      "source": [
        "# Step 3 - Reflection\n",
        "circuit.h(0)\n",
        "circuit.h(1)\n",
        "circuit.x(0)\n",
        "circuit.x(1)\n",
        "\n",
        "circuit.cz(0, 1)\n",
        "\n",
        "circuit.x(0)\n",
        "circuit.x(1)\n",
        "circuit.h(0)\n",
        "circuit.h(1)\n",
        "\n",
        "circuit.draw('mpl')"
      ],
      "execution_count": 11,
      "outputs": [
        {
          "output_type": "execute_result",
          "data": {
            "image/png": "[encoded data removed]",
            "text/plain": [
              "<Figure size 507.852x204.68 with 1 Axes>"
            ]
          },
          "metadata": {
            "tags": []
          },
          "execution_count": 11
        }
      ]
    },
    {
      "cell_type": "code",
      "metadata": {
        "id": "IsPmc_kkAsbl",
        "outputId": "8d1d0c7f-c9b8-429e-d5c9-92b6189e83d0",
        "colab": {
          "base_uri": "https://localhost:8080/",
          "height": 185
        }
      },
      "source": [
        "# Map the quantum measurement to the classical bits\n",
        "circuit.measure([0,1], [0,1])\n",
        "circuit.draw('mpl')"
      ],
      "execution_count": 12,
      "outputs": [
        {
          "output_type": "execute_result",
          "data": {
            "image/png": "[encoded data removed]",
            "text/plain": [
              "<Figure size 628.252x204.68 with 1 Axes>"
            ]
          },
          "metadata": {
            "tags": []
          },
          "execution_count": 12
        }
      ]
    },
    {
      "cell_type": "markdown",
      "metadata": {
        "id": "EiAl2zkFL7TI"
      },
      "source": [
        "# Exécution"
      ]
    },
    {
      "cell_type": "code",
      "metadata": {
        "id": "zzYg_S9hAvMg",
        "outputId": "48bd4b10-1481-4d4d-dece-74e34dc0703b",
        "colab": {
          "base_uri": "https://localhost:8080/"
        }
      },
      "source": [
        "provider.backends()"
      ],
      "execution_count": 26,
      "outputs": [
        {
          "output_type": "execute_result",
          "data": {
            "text/plain": [
              "[<IBMQSimulator('ibmq_qasm_simulator') from IBMQ(hub='ibm-q', group='open', project='main')>,\n",
              " <IBMQBackend('ibmqx2') from IBMQ(hub='ibm-q', group='open', project='main')>,\n",
              " <IBMQBackend('ibmq_16_melbourne') from IBMQ(hub='ibm-q', group='open', project='main')>,\n",
              " <IBMQBackend('ibmq_vigo') from IBMQ(hub='ibm-q', group='open', project='main')>,\n",
              " <IBMQBackend('ibmq_ourense') from IBMQ(hub='ibm-q', group='open', project='main')>,\n",
              " <IBMQBackend('ibmq_valencia') from IBMQ(hub='ibm-q', group='open', project='main')>,\n",
              " <IBMQBackend('ibmq_armonk') from IBMQ(hub='ibm-q', group='open', project='main')>,\n",
              " <IBMQBackend('ibmq_athens') from IBMQ(hub='ibm-q', group='open', project='main')>,\n",
              " <IBMQBackend('ibmq_santiago') from IBMQ(hub='ibm-q', group='open', project='main')>]"
            ]
          },
          "metadata": {
            "tags": []
          },
          "execution_count": 26
        }
      ]
    },
    {
      "cell_type": "code",
      "metadata": {
        "id": "MviSmDqXAzN1"
      },
      "source": [
        "# backend = Aer.get_backend('qasm_simulator')\n",
        "backend = provider.get_backend('ibmq_ourense')"
      ],
      "execution_count": 27,
      "outputs": []
    },
    {
      "cell_type": "code",
      "metadata": {
        "id": "dbHNmEgzAztu"
      },
      "source": [
        "job = execute(circuit, backend, shots=2048)"
      ],
      "execution_count": 29,
      "outputs": []
    },
    {
      "cell_type": "code",
      "metadata": {
        "id": "uDitwBiNA2f1",
        "outputId": "735ae3e5-5c9e-4ffd-87d5-23f999fb8717",
        "colab": {
          "base_uri": "https://localhost:8080/"
        }
      },
      "source": [
        "result = job.result()\n",
        "result.get_counts()\n",
        "# on imbq_ourense => {'00': 24, '01': 135, '10': 354, '11': 3583}"
      ],
      "execution_count": 30,
      "outputs": [
        {
          "output_type": "execute_result",
          "data": {
            "text/plain": [
              "{'00': 8, '01': 61, '10': 110, '11': 1869}"
            ]
          },
          "metadata": {
            "tags": []
          },
          "execution_count": 30
        }
      ]
    }
  ]
}